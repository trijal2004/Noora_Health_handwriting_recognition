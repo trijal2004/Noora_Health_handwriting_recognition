{
 "cells": [
  {
   "cell_type": "code",
   "execution_count": 1,
   "metadata": {},
   "outputs": [],
   "source": [
    "import pandas as pd"
   ]
  },
  {
   "cell_type": "code",
   "execution_count": 2,
   "metadata": {},
   "outputs": [],
   "source": [
    "df = pd.read_csv('Copy of FAQ BANK - restructured_FAQ.csv')"
   ]
  },
  {
   "cell_type": "code",
   "execution_count": 11,
   "metadata": {},
   "outputs": [
    {
     "data": {
      "text/plain": [
       "(2530, 7)"
      ]
     },
     "execution_count": 11,
     "metadata": {},
     "output_type": "execute_result"
    }
   ],
   "source": [
    "df.shape"
   ]
  },
  {
   "cell_type": "code",
   "execution_count": 6,
   "metadata": {},
   "outputs": [
    {
     "data": {
      "text/html": [
       "<div>\n",
       "<style scoped>\n",
       "    .dataframe tbody tr th:only-of-type {\n",
       "        vertical-align: middle;\n",
       "    }\n",
       "\n",
       "    .dataframe tbody tr th {\n",
       "        vertical-align: top;\n",
       "    }\n",
       "\n",
       "    .dataframe thead th {\n",
       "        text-align: right;\n",
       "    }\n",
       "</style>\n",
       "<table border=\"1\" class=\"dataframe\">\n",
       "  <thead>\n",
       "    <tr style=\"text-align: right;\">\n",
       "      <th></th>\n",
       "      <th>SuperCategory</th>\n",
       "      <th>Category</th>\n",
       "      <th>Subcategory</th>\n",
       "      <th>QuestionID</th>\n",
       "      <th>QuestionText</th>\n",
       "      <th>ResponseID</th>\n",
       "      <th>ResponseText</th>\n",
       "    </tr>\n",
       "  </thead>\n",
       "  <tbody>\n",
       "    <tr>\n",
       "      <th>0</th>\n",
       "      <td>revamp</td>\n",
       "      <td>immunisation</td>\n",
       "      <td>immunisation</td>\n",
       "      <td>1</td>\n",
       "      <td>tika bachee ko lagbana hai do mahene ki ho gai</td>\n",
       "      <td>1</td>\n",
       "      <td>Contact your Anganwadi worker or ASHA immediat...</td>\n",
       "    </tr>\n",
       "    <tr>\n",
       "      <th>1</th>\n",
       "      <td>revamp</td>\n",
       "      <td>immunisation</td>\n",
       "      <td>immunisation</td>\n",
       "      <td>1</td>\n",
       "      <td>tika bachee ko lagbana hai do mahene ki ho gai</td>\n",
       "      <td>2</td>\n",
       "      <td>immunisation chart</td>\n",
       "    </tr>\n",
       "    <tr>\n",
       "      <th>2</th>\n",
       "      <td>revamp</td>\n",
       "      <td>baby care</td>\n",
       "      <td>baby weight</td>\n",
       "      <td>2</td>\n",
       "      <td>Bacche Di sehat Nahi bandi baccha kamjor va\\n2...</td>\n",
       "      <td>3</td>\n",
       "      <td>Send kmc\\nEbf\\nLatching technique\\nImmunisatio...</td>\n",
       "    </tr>\n",
       "    <tr>\n",
       "      <th>3</th>\n",
       "      <td>revamp</td>\n",
       "      <td>baby care</td>\n",
       "      <td>baby weight</td>\n",
       "      <td>2</td>\n",
       "      <td>Bacche Di sehat Nahi bandi baccha kamjor va\\n2...</td>\n",
       "      <td>4</td>\n",
       "      <td>It is good that the baby's weight has improved...</td>\n",
       "    </tr>\n",
       "    <tr>\n",
       "      <th>4</th>\n",
       "      <td>revamp</td>\n",
       "      <td>baby care</td>\n",
       "      <td>baby weight</td>\n",
       "      <td>2</td>\n",
       "      <td>Bacche Di sehat Nahi bandi baccha kamjor va\\n2...</td>\n",
       "      <td>5</td>\n",
       "      <td>make sure to check with the doctor when you ca...</td>\n",
       "    </tr>\n",
       "  </tbody>\n",
       "</table>\n",
       "</div>"
      ],
      "text/plain": [
       "  SuperCategory      Category   Subcategory  QuestionID  \\\n",
       "0        revamp  immunisation  immunisation           1   \n",
       "1        revamp  immunisation  immunisation           1   \n",
       "2        revamp     baby care   baby weight           2   \n",
       "3        revamp     baby care   baby weight           2   \n",
       "4        revamp     baby care   baby weight           2   \n",
       "\n",
       "                                        QuestionText  ResponseID  \\\n",
       "0     tika bachee ko lagbana hai do mahene ki ho gai           1   \n",
       "1     tika bachee ko lagbana hai do mahene ki ho gai           2   \n",
       "2  Bacche Di sehat Nahi bandi baccha kamjor va\\n2...           3   \n",
       "3  Bacche Di sehat Nahi bandi baccha kamjor va\\n2...           4   \n",
       "4  Bacche Di sehat Nahi bandi baccha kamjor va\\n2...           5   \n",
       "\n",
       "                                        ResponseText  \n",
       "0  Contact your Anganwadi worker or ASHA immediat...  \n",
       "1                                 immunisation chart  \n",
       "2  Send kmc\\nEbf\\nLatching technique\\nImmunisatio...  \n",
       "3  It is good that the baby's weight has improved...  \n",
       "4  make sure to check with the doctor when you ca...  "
      ]
     },
     "execution_count": 6,
     "metadata": {},
     "output_type": "execute_result"
    }
   ],
   "source": [
    "df.head()"
   ]
  },
  {
   "cell_type": "code",
   "execution_count": 23,
   "metadata": {},
   "outputs": [
    {
     "data": {
      "text/plain": [
       "Index(['SuperCategory', 'Category', 'Subcategory', 'QuestionID',\n",
       "       'QuestionText', 'ResponseID', 'ResponseText'],\n",
       "      dtype='object')"
      ]
     },
     "execution_count": 23,
     "metadata": {},
     "output_type": "execute_result"
    }
   ],
   "source": [
    "df.columns"
   ]
  },
  {
   "cell_type": "code",
   "execution_count": 21,
   "metadata": {},
   "outputs": [
    {
     "data": {
      "text/plain": [
       "SuperCategory       0\n",
       "Category         2206\n",
       "Subcategory        91\n",
       "QuestionID          0\n",
       "QuestionText       19\n",
       "ResponseID          0\n",
       "ResponseText        0\n",
       "dtype: int64"
      ]
     },
     "execution_count": 21,
     "metadata": {},
     "output_type": "execute_result"
    }
   ],
   "source": [
    "df.isna().sum()\n"
   ]
  },
  {
   "cell_type": "code",
   "execution_count": 19,
   "metadata": {},
   "outputs": [
    {
     "data": {
      "text/plain": [
       "Category\n",
       "Breast Milk              67\n",
       "baby warning sign        25\n",
       "baby care                25\n",
       "ANC PAIN                 22\n",
       "ANC scan                 20\n",
       "PNC care                 16\n",
       "ANC VOMIT and NAUSEA     14\n",
       "Jaundice                 11\n",
       "ANC BP                    8\n",
       "Breast                    8\n",
       "Baby loose motion         8\n",
       "Bath                      6\n",
       "Baby constipation         6\n",
       "Baby bath                 6\n",
       "ANC immunisation          6\n",
       "ANC care                  6\n",
       "ANC Diet                  6\n",
       "PNC diet                  5\n",
       "PNC Pain                  5\n",
       "Menstural cycle           4\n",
       "Medicine                  4\n",
       "Loose motion              4\n",
       "PNC Warning sign          4\n",
       "Gynec                     4\n",
       "PNC pain                  4\n",
       "death of baby             4\n",
       "Sleep                     3\n",
       "Baby Pimples              3\n",
       "Stitch                    3\n",
       "emotional status          2\n",
       "immunisation              2\n",
       "Baby vomit                2\n",
       "ANC warning sign          2\n",
       "Oil                       1\n",
       "Copper T                  1\n",
       "Baby warning sign         1\n",
       "Weight                    1\n",
       "baby and PNC              1\n",
       "Baby eye                  1\n",
       "Baby cough/cold/fever     1\n",
       "Baby care                 1\n",
       "Dengue                    1\n",
       "Name: count, dtype: int64"
      ]
     },
     "execution_count": 19,
     "metadata": {},
     "output_type": "execute_result"
    }
   ],
   "source": [
    "df.value_counts('Category')"
   ]
  },
  {
   "cell_type": "code",
   "execution_count": 22,
   "metadata": {},
   "outputs": [
    {
     "data": {
      "text/plain": [
       "Subcategory\n",
       "less milk                        37\n",
       "baby weight                      35\n",
       "scan                             27\n",
       "cold                             27\n",
       "not drinking milk                24\n",
       "                                 ..\n",
       "Not satisfied with breastmilk     1\n",
       "Not sleeping with cry             1\n",
       "hard stomach                      1\n",
       "hard poop                         1\n",
       "yellow urine                      1\n",
       "Name: count, Length: 953, dtype: int64"
      ]
     },
     "execution_count": 22,
     "metadata": {},
     "output_type": "execute_result"
    }
   ],
   "source": [
    "df.value_counts('Subcategory')"
   ]
  },
  {
   "cell_type": "code",
   "execution_count": 18,
   "metadata": {},
   "outputs": [
    {
     "data": {
      "text/plain": [
       "SuperCategory\n",
       "ANC                608\n",
       "Baby care          578\n",
       "revamped anc       532\n",
       "PNC                387\n",
       "revamp             134\n",
       "Breast Milk        117\n",
       "Immunization        49\n",
       "Gynec               39\n",
       "Family Planning     36\n",
       "Weaning             27\n",
       "Jaundice            11\n",
       "Inpatient            8\n",
       "Other                4\n",
       "Name: count, dtype: int64"
      ]
     },
     "execution_count": 18,
     "metadata": {},
     "output_type": "execute_result"
    }
   ],
   "source": [
    "df.value_counts('SuperCategory')"
   ]
  },
  {
   "cell_type": "code",
   "execution_count": 24,
   "metadata": {},
   "outputs": [],
   "source": [
    "df.drop(columns=['SuperCategory' , 'Category' , 'Subcategory' , 'ResponseID' , 'QuestionID' ], inplace=True)"
   ]
  },
  {
   "cell_type": "code",
   "execution_count": 28,
   "metadata": {},
   "outputs": [],
   "source": [
    "df.to_csv('faq.csv', index=False)"
   ]
  },
  {
   "cell_type": "code",
   "execution_count": null,
   "metadata": {},
   "outputs": [],
   "source": []
  }
 ],
 "metadata": {
  "kernelspec": {
   "display_name": "rag",
   "language": "python",
   "name": "python3"
  },
  "language_info": {
   "codemirror_mode": {
    "name": "ipython",
    "version": 3
   },
   "file_extension": ".py",
   "mimetype": "text/x-python",
   "name": "python",
   "nbconvert_exporter": "python",
   "pygments_lexer": "ipython3",
   "version": "3.11.6"
  }
 },
 "nbformat": 4,
 "nbformat_minor": 2
}
